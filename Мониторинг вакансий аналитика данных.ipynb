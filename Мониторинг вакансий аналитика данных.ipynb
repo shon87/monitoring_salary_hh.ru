{
 "cells": [
  {
   "cell_type": "markdown",
   "metadata": {},
   "source": [
    "### Запустим парсинг вакансий аналитика данных на hh.ru"
   ]
  },
  {
   "cell_type": "code",
   "execution_count": 1,
   "metadata": {},
   "outputs": [
    {
     "data": {
      "text/html": [
       "<div>\n",
       "<style scoped>\n",
       "    .dataframe tbody tr th:only-of-type {\n",
       "        vertical-align: middle;\n",
       "    }\n",
       "\n",
       "    .dataframe tbody tr th {\n",
       "        vertical-align: top;\n",
       "    }\n",
       "\n",
       "    .dataframe thead th {\n",
       "        text-align: right;\n",
       "    }\n",
       "</style>\n",
       "<table border=\"1\" class=\"dataframe\">\n",
       "  <thead>\n",
       "    <tr style=\"text-align: right;\">\n",
       "      <th></th>\n",
       "      <th>job_title</th>\n",
       "      <th>city</th>\n",
       "      <th>salary_from</th>\n",
       "      <th>salary_to</th>\n",
       "      <th>currency</th>\n",
       "      <th>experience</th>\n",
       "    </tr>\n",
       "  </thead>\n",
       "  <tbody>\n",
       "    <tr>\n",
       "      <th>0</th>\n",
       "      <td>Data Analyst</td>\n",
       "      <td>Москва</td>\n",
       "      <td>230000.0</td>\n",
       "      <td>NaN</td>\n",
       "      <td>RUR</td>\n",
       "      <td>От 3 до 6 лет</td>\n",
       "    </tr>\n",
       "    <tr>\n",
       "      <th>1</th>\n",
       "      <td>Data Analyst (middle)</td>\n",
       "      <td>Москва</td>\n",
       "      <td>180000.0</td>\n",
       "      <td>300000.0</td>\n",
       "      <td>RUR</td>\n",
       "      <td>От 1 года до 3 лет</td>\n",
       "    </tr>\n",
       "    <tr>\n",
       "      <th>3</th>\n",
       "      <td>Аналитик данных</td>\n",
       "      <td>Москва</td>\n",
       "      <td>230000.0</td>\n",
       "      <td>NaN</td>\n",
       "      <td>RUR</td>\n",
       "      <td>От 3 до 6 лет</td>\n",
       "    </tr>\n",
       "    <tr>\n",
       "      <th>6</th>\n",
       "      <td>Data Analyst (Senior/Lead)</td>\n",
       "      <td>Москва</td>\n",
       "      <td>220000.0</td>\n",
       "      <td>300000.0</td>\n",
       "      <td>RUR</td>\n",
       "      <td>Более 6 лет</td>\n",
       "    </tr>\n",
       "    <tr>\n",
       "      <th>7</th>\n",
       "      <td>Дата-менеджер (Data-analyst по работе с основн...</td>\n",
       "      <td>Москва</td>\n",
       "      <td>120000.0</td>\n",
       "      <td>150000.0</td>\n",
       "      <td>RUR</td>\n",
       "      <td>От 1 года до 3 лет</td>\n",
       "    </tr>\n",
       "    <tr>\n",
       "      <th>10</th>\n",
       "      <td>BI аналитик</td>\n",
       "      <td>Москва</td>\n",
       "      <td>NaN</td>\n",
       "      <td>200000.0</td>\n",
       "      <td>RUR</td>\n",
       "      <td>От 1 года до 3 лет</td>\n",
       "    </tr>\n",
       "    <tr>\n",
       "      <th>11</th>\n",
       "      <td>Junior Data Analyst</td>\n",
       "      <td>Москва</td>\n",
       "      <td>NaN</td>\n",
       "      <td>150000.0</td>\n",
       "      <td>RUR</td>\n",
       "      <td>От 1 года до 3 лет</td>\n",
       "    </tr>\n",
       "    <tr>\n",
       "      <th>13</th>\n",
       "      <td>Аналитик данных (удаленно)</td>\n",
       "      <td>Санкт-Петербург</td>\n",
       "      <td>80000.0</td>\n",
       "      <td>NaN</td>\n",
       "      <td>RUR</td>\n",
       "      <td>От 1 года до 3 лет</td>\n",
       "    </tr>\n",
       "    <tr>\n",
       "      <th>24</th>\n",
       "      <td>Junior Data scientist (Аналитик)</td>\n",
       "      <td>Нижний Новгород</td>\n",
       "      <td>60000.0</td>\n",
       "      <td>NaN</td>\n",
       "      <td>RUR</td>\n",
       "      <td>Нет опыта</td>\n",
       "    </tr>\n",
       "    <tr>\n",
       "      <th>25</th>\n",
       "      <td>Data Analyst / Аналитик данных</td>\n",
       "      <td>Нижний Новгород</td>\n",
       "      <td>NaN</td>\n",
       "      <td>150000.0</td>\n",
       "      <td>RUR</td>\n",
       "      <td>От 1 года до 3 лет</td>\n",
       "    </tr>\n",
       "  </tbody>\n",
       "</table>\n",
       "</div>"
      ],
      "text/plain": [
       "                                            job_title             city  \\\n",
       "0                                        Data Analyst           Москва   \n",
       "1                               Data Analyst (middle)           Москва   \n",
       "3                                     Аналитик данных           Москва   \n",
       "6                          Data Analyst (Senior/Lead)           Москва   \n",
       "7   Дата-менеджер (Data-analyst по работе с основн...           Москва   \n",
       "10                                        BI аналитик           Москва   \n",
       "11                                Junior Data Analyst           Москва   \n",
       "13                         Аналитик данных (удаленно)  Санкт-Петербург   \n",
       "24                   Junior Data scientist (Аналитик)  Нижний Новгород   \n",
       "25                     Data Analyst / Аналитик данных  Нижний Новгород   \n",
       "\n",
       "    salary_from  salary_to currency          experience  \n",
       "0      230000.0        NaN      RUR       От 3 до 6 лет  \n",
       "1      180000.0   300000.0      RUR  От 1 года до 3 лет  \n",
       "3      230000.0        NaN      RUR       От 3 до 6 лет  \n",
       "6      220000.0   300000.0      RUR         Более 6 лет  \n",
       "7      120000.0   150000.0      RUR  От 1 года до 3 лет  \n",
       "10          NaN   200000.0      RUR  От 1 года до 3 лет  \n",
       "11          NaN   150000.0      RUR  От 1 года до 3 лет  \n",
       "13      80000.0        NaN      RUR  От 1 года до 3 лет  \n",
       "24      60000.0        NaN      RUR           Нет опыта  \n",
       "25          NaN   150000.0      RUR  От 1 года до 3 лет  "
      ]
     },
     "execution_count": 1,
     "metadata": {},
     "output_type": "execute_result"
    }
   ],
   "source": [
    "# Парсим вакансии с hh.ru\n",
    "# Если хотим получить вакансии со всей России указываем 'area':{'113'}; \n",
    "# Если хотим получить выборку по некоторым регионам, то 'area':{'72', '3', '61', '96', '78', '66', '88', '54'}\n",
    "# Импортируем бибилиотеки\n",
    "import requests\n",
    "import pandas as pd\n",
    "\n",
    "# Указываем количество страниц, которые хотим спарсить\n",
    "number_of_pages = 100\n",
    "\n",
    "# Задаем название позиций, по которым хотим спарсить вакансии\n",
    "job_title = [\"'Data Analyst' and 'Аналитик данных'\"]\n",
    "# Запускаем цикл, в котором проходим по страницам и записываем данные в Data_Frame\n",
    "for job in job_title:\n",
    "    data=[]\n",
    "    for i in range(number_of_pages):\n",
    "        url = 'https://api.hh.ru/vacancies'\n",
    "        par = {'text': job, 'area':{'113'}, 'per_page':'10', 'page':i}\n",
    "        r = requests.get(url, params=par)\n",
    "        e=r.json()\n",
    "        data.append(e)\n",
    "        vacancy_details = data[0]['items'][0].keys()\n",
    "        df = pd.DataFrame(columns= list(vacancy_details))\n",
    "        ind = 0\n",
    "        for i in range(len(data)):\n",
    "            for j in range(len(data[i]['items'])):\n",
    "                df.loc[ind] = data[i]['items'][j]\n",
    "                ind+=1\n",
    "                \n",
    "# Переименовываем колонку с названием позиции\n",
    "df = df.rename(columns={'name':'job_title'})\n",
    "\n",
    "# Колонку с данными о регионе / городе преобразуем из формата dict в обычную колонку, чтобы было удобно работать\n",
    "df = pd.concat([df.drop(['area'], axis=1), df['area'].apply(pd.Series)], axis=1)\n",
    "\n",
    "# Колонку с зарплатой тоже переводим из dict в обычную колонку \n",
    "df = pd.concat([df.drop(['salary'], axis=1), df['salary'].apply(pd.Series)], axis=1)\n",
    "\n",
    "# Переименовываем колонки \n",
    "df = df.rename(columns={'name':'city', 'from':'salary_from', 'to':'salary_to'})\n",
    "\n",
    "# Колонку с опытом работы также преобразуем из dict в обычную колонку \n",
    "df = pd.concat([df.drop(['experience'], axis=1), df['experience'].apply(pd.Series)], axis=1)\n",
    "# Переименуем \n",
    "df = df.rename(columns={'name':'experience'})\n",
    "\n",
    "# Оставим вакансии только с валютой RUR \n",
    "df = df.query('currency==\"RUR\"')\n",
    "\n",
    "# Избавимся от лишних колонок и посмотрим, что получилось\n",
    "df = df[['job_title', 'city', 'salary_from', 'salary_to', 'currency', 'experience']]\n",
    "df.head(10)"
   ]
  },
  {
   "cell_type": "code",
   "execution_count": 2,
   "metadata": {},
   "outputs": [],
   "source": [
    "# для salary_from и salary_to удаляем пропуски, сортируем значения и получаем медиану\n",
    "salary_from = df.salary_from.dropna().sort_values()\n",
    "salary_from_median = salary_from.median()\n",
    "salary_to = df.salary_from.dropna().sort_values()\n",
    "salary_to_median = salary_to.median()\n",
    "\n",
    "# заполним пропуски медианным знаением salary_from\n",
    "df['salary_from'] = df['salary_from'].fillna(salary_from_median)\n",
    "# заполним пропуски медианным знаением salary_to\n",
    "df['salary_to'] = df['salary_to'].fillna(salary_to_median)"
   ]
  },
  {
   "cell_type": "code",
   "execution_count": 3,
   "metadata": {
    "scrolled": true
   },
   "outputs": [
    {
     "name": "stdout",
     "output_type": "stream",
     "text": [
      "Средняя зарплата \"от\" для аналитика данных по всей России = 130858.57\n",
      "Средняя зарплата \"до\" для аналитика данных по всей России = 170400.56\n"
     ]
    }
   ],
   "source": [
    "# Получаем интервал средней зарплат аналитика данных по всей России\n",
    "print('Средняя зарплата \"от\" для аналитика данных по всей России = {}'.format(round(df.salary_from.mean(), 2)))\n",
    "print('Средняя зарплата \"до\" для аналитика данных по всей России = {}'.format(round(df.salary_to.mean(), 2)))"
   ]
  },
  {
   "cell_type": "markdown",
   "metadata": {},
   "source": [
    "#### Посмотрим, какие вакансии для аналитика данных, но исключим вакансии Москвы"
   ]
  },
  {
   "cell_type": "code",
   "execution_count": 4,
   "metadata": {},
   "outputs": [],
   "source": [
    "df_no_Moscow = df.query('city!=\"Москва\"')"
   ]
  },
  {
   "cell_type": "code",
   "execution_count": 8,
   "metadata": {
    "scrolled": true
   },
   "outputs": [
    {
     "name": "stderr",
     "output_type": "stream",
     "text": [
      "C:\\Users\\agladkih\\anaconda3\\lib\\site-packages\\ipykernel_launcher.py:8: SettingWithCopyWarning: \n",
      "A value is trying to be set on a copy of a slice from a DataFrame.\n",
      "Try using .loc[row_indexer,col_indexer] = value instead\n",
      "\n",
      "See the caveats in the documentation: https://pandas.pydata.org/pandas-docs/stable/user_guide/indexing.html#returning-a-view-versus-a-copy\n",
      "  \n",
      "C:\\Users\\agladkih\\anaconda3\\lib\\site-packages\\ipykernel_launcher.py:10: SettingWithCopyWarning: \n",
      "A value is trying to be set on a copy of a slice from a DataFrame.\n",
      "Try using .loc[row_indexer,col_indexer] = value instead\n",
      "\n",
      "See the caveats in the documentation: https://pandas.pydata.org/pandas-docs/stable/user_guide/indexing.html#returning-a-view-versus-a-copy\n",
      "  # Remove the CWD from sys.path while we load stuff.\n"
     ]
    }
   ],
   "source": [
    "# для salary_from и salary_to удаляем пропуски, сортируем значения и получаем медиану\n",
    "salary_from_no_Moscow = df_no_Moscow.salary_from.dropna().sort_values()\n",
    "salary_from_no_Moscow_median = salary_from_no_Moscow.median()\n",
    "salary_to_no_Moscow = df_no_Moscow.salary_from.dropna().sort_values()\n",
    "salary_to_no_Moscow_median = salary_to_no_Moscow.median()\n",
    "\n",
    "# заполним пропуски медианным знаением salary_from\n",
    "df_no_Moscow['salary_from'] = df_no_Moscow['salary_from'].fillna(salary_from_no_Moscow_median)\n",
    "# заполним пропуски медианным знаением salary_to\n",
    "df_no_Moscow['salary_to'] = df_no_Moscow['salary_to'].fillna(salary_to_no_Moscow_median)"
   ]
  },
  {
   "cell_type": "code",
   "execution_count": 9,
   "metadata": {},
   "outputs": [
    {
     "data": {
      "text/plain": [
       "count        65.000000\n",
       "mean      99676.923077\n",
       "std       53124.296375\n",
       "min       35000.000000\n",
       "25%       60000.000000\n",
       "50%      100000.000000\n",
       "75%      110000.000000\n",
       "max      300000.000000\n",
       "Name: salary_from, dtype: float64"
      ]
     },
     "execution_count": 9,
     "metadata": {},
     "output_type": "execute_result"
    }
   ],
   "source": [
    "# Посмотрим описательные статистики для salary_from\n",
    "df_no_Moscow['salary_from'].describe()\n",
    "# До 60 тыс имеется только 25% вакансий\n",
    "# 50% вакансий имеют salary более 100 тыс"
   ]
  },
  {
   "cell_type": "code",
   "execution_count": 12,
   "metadata": {},
   "outputs": [
    {
     "data": {
      "text/plain": [
       "array([[<matplotlib.axes._subplots.AxesSubplot object at 0x000001CCB4E15908>,\n",
       "        <matplotlib.axes._subplots.AxesSubplot object at 0x000001CCB5C63808>]],\n",
       "      dtype=object)"
      ]
     },
     "execution_count": 12,
     "metadata": {},
     "output_type": "execute_result"
    },
    {
     "data": {
      "image/png": "[encoded data removed]",
      "text/plain": [
       "<Figure size 432x288 with 2 Axes>"
      ]
     },
     "metadata": {
      "needs_background": "light"
     },
     "output_type": "display_data"
    }
   ],
   "source": [
    "df_no_Moscow.hist()"
   ]
  },
  {
   "cell_type": "code",
   "execution_count": 10,
   "metadata": {},
   "outputs": [
    {
     "data": {
      "text/plain": [
       "count        65.000000\n",
       "mean     138000.000000\n",
       "std       76798.030574\n",
       "min       60000.000000\n",
       "25%      100000.000000\n",
       "50%      110000.000000\n",
       "75%      150000.000000\n",
       "max      400000.000000\n",
       "Name: salary_to, dtype: float64"
      ]
     },
     "execution_count": 10,
     "metadata": {},
     "output_type": "execute_result"
    }
   ],
   "source": [
    "# Посмотрим описательные статистики для salary_to\n",
    "df_no_Moscow['salary_to'].describe()\n",
    "# До 100 тыс имеется только 25% вакансий\n",
    "# 50% вакансий имеют salary более 110 тыс\n",
    "# Высокие значения у стандартного отклонения и видно, что между миниммальным и максимальным значением очень выокий разброс\n",
    "# Учитывая такой большой разброс, можно отдельно провести анализ с учетом experience"
   ]
  },
  {
   "cell_type": "code",
   "execution_count": 6,
   "metadata": {},
   "outputs": [
    {
     "name": "stdout",
     "output_type": "stream",
     "text": [
      "Средняя зарплата \"от\" для аналитика данных исключаяя Москву = 99676.92\n",
      "Средняя зарплата \"до\" для аналитика данных исключаяя Москву = 138000.0\n"
     ]
    }
   ],
   "source": [
    "# Получаем интервал средней зарплат аналитика данных исключая Москву\n",
    "print('Средняя зарплата \"от\" для аналитика данных исключаяя Москву = {}'.format(round(df_no_Moscow.salary_from.mean(), 2)))\n",
    "print('Средняя зарплата \"до\" для аналитика данных исключаяя Москву = {}'.format(round(df_no_Moscow.salary_to.mean(), 2)))"
   ]
  }
 ],
 "metadata": {
  "kernelspec": {
   "display_name": "Python 3",
   "language": "python",
   "name": "python3"
  },
  "language_info": {
   "codemirror_mode": {
    "name": "ipython",
    "version": 3
   },
   "file_extension": ".py",
   "mimetype": "text/x-python",
   "name": "python",
   "nbconvert_exporter": "python",
   "pygments_lexer": "ipython3",
   "version": "3.7.6"
  }
 },
 "nbformat": 4,
 "nbformat_minor": 4
}
